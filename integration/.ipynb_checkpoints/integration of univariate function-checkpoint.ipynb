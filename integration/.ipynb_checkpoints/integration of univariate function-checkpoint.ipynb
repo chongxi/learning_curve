{
 "cells": [
  {
   "cell_type": "code",
   "execution_count": 1,
   "metadata": {
    "ExecuteTime": {
     "end_time": "2016-07-17T23:13:27.823872",
     "start_time": "2016-07-17T23:13:27.369460"
    },
    "collapsed": false
   },
   "outputs": [
    {
     "name": "stdout",
     "output_type": "stream",
     "text": [
      "Populating the interactive namespace from numpy and matplotlib\n"
     ]
    }
   ],
   "source": [
    "%pylab inline"
   ]
  },
  {
   "cell_type": "markdown",
   "metadata": {},
   "source": [
    "In integration theory, specifying a measure allows one to define integrals on spaces more general than subsets of Euclidean space"
   ]
  },
  {
   "cell_type": "markdown",
   "metadata": {},
   "source": [
    "[What is measure](https://en.wikipedia.org/wiki/Measure_(mathematics)"
   ]
  },
  {
   "cell_type": "markdown",
   "metadata": {},
   "source": [
    "[What is numerical integration](https://en.wikipedia.org/wiki/Numerical_integration)"
   ]
  },
  {
   "cell_type": "markdown",
   "metadata": {},
   "source": [
    "## 1D integration"
   ]
  },
  {
   "cell_type": "markdown",
   "metadata": {},
   "source": [
    "<img src=\"512px-RandLintegrals.svg.png\"/> \n",
    "*<center> Riemann–Darboux's integration (top) and Lebesgue integration (bottom) </center>*"
   ]
  },
  {
   "cell_type": "markdown",
   "metadata": {
    "ExecuteTime": {
     "end_time": "2016-07-17T23:13:29.244745",
     "start_time": "2016-07-17T23:13:29.239888"
    }
   },
   "source": [
    "[How to Compute Numerical integration in Numpy 1D](https://helloacm.com/how-to-compute-numerical-integration-in-numpy-python/)"
   ]
  },
  {
   "cell_type": "markdown",
   "metadata": {
    "ExecuteTime": {
     "end_time": "2016-07-17T23:14:07.870703",
     "start_time": "2016-07-17T23:14:07.865559"
    }
   },
   "source": [
    "integration is the sum of many tiny area, each area is `height*width`\n",
    "\n",
    "height is sampled value in the function, width is $(b-a)/N$\n",
    "\n",
    "Another understanding is the mean value of the function in $[a,b)$ multipy $(b-a)$"
   ]
  },
  {
   "cell_type": "code",
   "execution_count": 11,
   "metadata": {
    "ExecuteTime": {
     "end_time": "2016-07-17T23:14:16.588351",
     "start_time": "2016-07-17T23:14:16.582451"
    },
    "collapsed": true
   },
   "outputs": [],
   "source": [
    "def integrate(f, a, b, N):\n",
    "    delta = (b-a)/(2*N)\n",
    "    x = np.linspace(a+delta, b-delta, N)\n",
    "    fx = f(x)\n",
    "    area = np.sum(fx)*(b-a)/N\n",
    "    return area"
   ]
  },
  {
   "cell_type": "code",
   "execution_count": 12,
   "metadata": {
    "ExecuteTime": {
     "end_time": "2016-07-17T23:14:32.468350",
     "start_time": "2016-07-17T23:14:32.437856"
    },
    "collapsed": false
   },
   "outputs": [
    {
     "data": {
      "text/plain": [
       "1.0000000000001026"
      ]
     },
     "execution_count": 12,
     "metadata": {},
     "output_type": "execute_result"
    }
   ],
   "source": [
    "integrate(np.sin, 0, np.pi/2, 1000000)"
   ]
  },
  {
   "cell_type": "code",
   "execution_count": 13,
   "metadata": {
    "ExecuteTime": {
     "end_time": "2016-07-17T23:14:22.588149",
     "start_time": "2016-07-17T23:14:22.581946"
    },
    "collapsed": true
   },
   "outputs": [],
   "source": [
    "def integrate(f, a, b, N):\n",
    "    delta = (b-a)/(2*N)\n",
    "    x = np.linspace(a+delta, b-delta, N)\n",
    "    fx = f(x)\n",
    "    area = np.mean(fx)*(b-a)\n",
    "    return area"
   ]
  },
  {
   "cell_type": "code",
   "execution_count": 14,
   "metadata": {
    "ExecuteTime": {
     "end_time": "2016-07-17T23:14:32.468350",
     "start_time": "2016-07-17T23:14:32.437856"
    },
    "collapsed": false,
    "scrolled": true
   },
   "outputs": [
    {
     "data": {
      "text/plain": [
       "1.0000000000001026"
      ]
     },
     "execution_count": 14,
     "metadata": {},
     "output_type": "execute_result"
    }
   ],
   "source": [
    "integrate(np.sin, 0, np.pi/2, 1000000)"
   ]
  },
  {
   "cell_type": "markdown",
   "metadata": {},
   "source": [
    "## What about >1d\n",
    "Monte Carlo methods and quasi-Monte Carlo methods are easy to apply to multi-dimensional integrals, and may yield greater accuracy for the same number of function evaluations than repeated integrations using one-dimensional methods."
   ]
  },
  {
   "cell_type": "code",
   "execution_count": null,
   "metadata": {
    "collapsed": true
   },
   "outputs": [],
   "source": []
  }
 ],
 "metadata": {
  "anaconda-cloud": {},
  "kernelspec": {
   "display_name": "Python [default]",
   "language": "python",
   "name": "python2"
  },
  "language_info": {
   "codemirror_mode": {
    "name": "ipython",
    "version": 2
   },
   "file_extension": ".py",
   "mimetype": "text/x-python",
   "name": "python",
   "nbconvert_exporter": "python",
   "pygments_lexer": "ipython2",
   "version": "2.7.12"
  }
 },
 "nbformat": 4,
 "nbformat_minor": 0
}
