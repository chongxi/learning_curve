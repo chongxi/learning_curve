{
 "cells": [
  {
   "cell_type": "code",
   "execution_count": 117,
   "metadata": {
    "ExecuteTime": {
     "end_time": "2016-06-25T16:40:04.190187",
     "start_time": "2016-06-25T16:40:04.186635"
    },
    "collapsed": true
   },
   "outputs": [],
   "source": [
    "from collections import deque"
   ]
  },
  {
   "cell_type": "markdown",
   "metadata": {},
   "source": [
    "# pop and popleft"
   ]
  },
  {
   "cell_type": "code",
   "execution_count": 118,
   "metadata": {
    "ExecuteTime": {
     "end_time": "2016-06-25T16:40:04.406151",
     "start_time": "2016-06-25T16:40:04.402513"
    },
    "collapsed": true
   },
   "outputs": [],
   "source": [
    "x = deque(xrange(10000))"
   ]
  },
  {
   "cell_type": "code",
   "execution_count": 119,
   "metadata": {
    "ExecuteTime": {
     "end_time": "2016-06-25T16:40:04.585098",
     "start_time": "2016-06-25T16:40:04.578521"
    },
    "collapsed": false,
    "scrolled": true
   },
   "outputs": [
    {
     "name": "stdout",
     "output_type": "stream",
     "text": [
      "1000 loops, best of 3: 125 ns per loop\n"
     ]
    }
   ],
   "source": [
    "%timeit -n 1000 x.pop()"
   ]
  },
  {
   "cell_type": "code",
   "execution_count": 120,
   "metadata": {
    "ExecuteTime": {
     "end_time": "2016-06-25T16:40:04.775313",
     "start_time": "2016-06-25T16:40:04.769684"
    },
    "collapsed": false
   },
   "outputs": [
    {
     "name": "stdout",
     "output_type": "stream",
     "text": [
      "1000 loops, best of 3: 181 ns per loop\n"
     ]
    }
   ],
   "source": [
    "%timeit -n 1000 x.popleft()"
   ]
  },
  {
   "cell_type": "code",
   "execution_count": 121,
   "metadata": {
    "ExecuteTime": {
     "end_time": "2016-06-25T16:40:04.957822",
     "start_time": "2016-06-25T16:40:04.953349"
    },
    "collapsed": false
   },
   "outputs": [
    {
     "data": {
      "text/plain": [
       "(3000, 6999)"
      ]
     },
     "execution_count": 121,
     "metadata": {},
     "output_type": "execute_result"
    }
   ],
   "source": [
    "x[0],x[-1]"
   ]
  },
  {
   "cell_type": "code",
   "execution_count": 122,
   "metadata": {
    "ExecuteTime": {
     "end_time": "2016-06-25T16:40:05.670165",
     "start_time": "2016-06-25T16:40:05.666562"
    },
    "collapsed": true
   },
   "outputs": [],
   "source": [
    "x = range(10000)"
   ]
  },
  {
   "cell_type": "code",
   "execution_count": 123,
   "metadata": {
    "ExecuteTime": {
     "end_time": "2016-06-25T16:40:06.042472",
     "start_time": "2016-06-25T16:40:06.035906"
    },
    "collapsed": false
   },
   "outputs": [
    {
     "name": "stdout",
     "output_type": "stream",
     "text": [
      "1000 loops, best of 3: 265 ns per loop\n"
     ]
    }
   ],
   "source": [
    "%timeit -n 1000 x.pop()"
   ]
  },
  {
   "cell_type": "code",
   "execution_count": 124,
   "metadata": {
    "ExecuteTime": {
     "end_time": "2016-06-25T16:40:06.357520",
     "start_time": "2016-06-25T16:40:06.346561"
    },
    "collapsed": false
   },
   "outputs": [
    {
     "name": "stdout",
     "output_type": "stream",
     "text": [
      "1000 loops, best of 3: 1.54 µs per loop\n"
     ]
    }
   ],
   "source": [
    "%timeit -n 1000 x.pop(0)"
   ]
  },
  {
   "cell_type": "code",
   "execution_count": 125,
   "metadata": {
    "ExecuteTime": {
     "end_time": "2016-06-25T16:40:06.558691",
     "start_time": "2016-06-25T16:40:06.554178"
    },
    "collapsed": false
   },
   "outputs": [
    {
     "data": {
      "text/plain": [
       "(3000, 6999)"
      ]
     },
     "execution_count": 125,
     "metadata": {},
     "output_type": "execute_result"
    }
   ],
   "source": [
    "x[0],x[-1]"
   ]
  },
  {
   "cell_type": "markdown",
   "metadata": {
    "ExecuteTime": {
     "end_time": "2016-06-25T16:40:50.501550",
     "start_time": "2016-06-25T16:40:50.498663"
    }
   },
   "source": [
    "# append and appendleft"
   ]
  },
  {
   "cell_type": "code",
   "execution_count": 152,
   "metadata": {
    "ExecuteTime": {
     "end_time": "2016-06-25T16:44:25.965795",
     "start_time": "2016-06-25T16:44:25.961960"
    },
    "collapsed": true
   },
   "outputs": [],
   "source": [
    "x = deque(xrange(10000))"
   ]
  },
  {
   "cell_type": "code",
   "execution_count": 153,
   "metadata": {
    "ExecuteTime": {
     "end_time": "2016-06-25T16:44:26.151170",
     "start_time": "2016-06-25T16:44:26.144863"
    },
    "collapsed": false
   },
   "outputs": [
    {
     "name": "stdout",
     "output_type": "stream",
     "text": [
      "1000 loops, best of 3: 356 ns per loop\n"
     ]
    }
   ],
   "source": [
    "%timeit -n 1000 x.append(3.14)"
   ]
  },
  {
   "cell_type": "code",
   "execution_count": 154,
   "metadata": {
    "ExecuteTime": {
     "end_time": "2016-06-25T16:44:26.335287",
     "start_time": "2016-06-25T16:44:26.329044"
    },
    "collapsed": false,
    "scrolled": true
   },
   "outputs": [
    {
     "name": "stdout",
     "output_type": "stream",
     "text": [
      "1000 loops, best of 3: 142 ns per loop\n"
     ]
    }
   ],
   "source": [
    "%timeit -n 1000 x.appendleft(3.15)"
   ]
  },
  {
   "cell_type": "code",
   "execution_count": 155,
   "metadata": {
    "ExecuteTime": {
     "end_time": "2016-06-25T16:44:26.805277",
     "start_time": "2016-06-25T16:44:26.801880"
    },
    "collapsed": true
   },
   "outputs": [],
   "source": [
    "x = range(10000)"
   ]
  },
  {
   "cell_type": "code",
   "execution_count": 156,
   "metadata": {
    "ExecuteTime": {
     "end_time": "2016-06-25T16:44:27.048760",
     "start_time": "2016-06-25T16:44:27.042601"
    },
    "collapsed": false,
    "scrolled": true
   },
   "outputs": [
    {
     "name": "stdout",
     "output_type": "stream",
     "text": [
      "1000 loops, best of 3: 153 ns per loop\n"
     ]
    }
   ],
   "source": [
    "%timeit -n 1000 x.append(3.14)"
   ]
  },
  {
   "cell_type": "code",
   "execution_count": 157,
   "metadata": {
    "ExecuteTime": {
     "end_time": "2016-06-25T16:44:27.269582",
     "start_time": "2016-06-25T16:44:27.233129"
    },
    "collapsed": false
   },
   "outputs": [
    {
     "name": "stdout",
     "output_type": "stream",
     "text": [
      "1000 loops, best of 3: 9.17 µs per loop\n"
     ]
    }
   ],
   "source": [
    "%timeit -n 1000 x.insert(0, 3.15)"
   ]
  },
  {
   "cell_type": "code",
   "execution_count": null,
   "metadata": {
    "collapsed": true
   },
   "outputs": [],
   "source": []
  }
 ],
 "metadata": {
  "kernelspec": {
   "display_name": "Python 2",
   "language": "python",
   "name": "python2"
  },
  "language_info": {
   "codemirror_mode": {
    "name": "ipython",
    "version": 2
   },
   "file_extension": ".py",
   "mimetype": "text/x-python",
   "name": "python",
   "nbconvert_exporter": "python",
   "pygments_lexer": "ipython2",
   "version": "2.7.11"
  }
 },
 "nbformat": 4,
 "nbformat_minor": 0
}
