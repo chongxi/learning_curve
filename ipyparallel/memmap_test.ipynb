{
 "cells": [
  {
   "cell_type": "markdown",
   "metadata": {},
   "source": [
    "# More efficient broadcast of arrays with memmap"
   ]
  },
  {
   "cell_type": "markdown",
   "metadata": {},
   "source": [
    "Data movement is where IPython's naïve model suffers the most.\n",
    "But knowing about your cluster lets you make smarter decisions about data movement than a simple `rc[:].push` movement"
   ]
  },
  {
   "cell_type": "code",
   "execution_count": 3,
   "metadata": {
    "ExecuteTime": {
     "end_time": "2016-08-19T16:28:19.701637",
     "start_time": "2016-08-19T16:28:19.694251"
    },
    "collapsed": false
   },
   "outputs": [],
   "source": [
    "import socket\n",
    "import os, sys, re\n",
    "\n",
    "import numpy as np\n",
    "\n",
    "import ipyparallel as parallel"
   ]
  },
  {
   "cell_type": "code",
   "execution_count": 5,
   "metadata": {
    "ExecuteTime": {
     "end_time": "2016-08-19T16:28:38.934673",
     "start_time": "2016-08-19T16:28:38.881463"
    },
    "collapsed": false
   },
   "outputs": [],
   "source": [
    "rc = parallel.Client()\n",
    "eall = rc[:]"
   ]
  },
  {
   "cell_type": "code",
   "execution_count": 6,
   "metadata": {
    "ExecuteTime": {
     "end_time": "2016-08-19T16:28:48.407922",
     "start_time": "2016-08-19T16:28:48.236192"
    },
    "collapsed": false
   },
   "outputs": [
    {
     "data": {
      "text/plain": [
       "{0: 'laic-ws1',\n",
       " 1: 'laic-ws1',\n",
       " 2: 'laic-ws1',\n",
       " 3: 'laic-ws1',\n",
       " 4: 'laic-ws1',\n",
       " 5: 'laic-ws1',\n",
       " 6: 'laic-ws1',\n",
       " 7: 'laic-ws1',\n",
       " 8: 'laic-ws1',\n",
       " 9: 'laic-ws1',\n",
       " 10: 'laic-ws1',\n",
       " 11: 'laic-ws1',\n",
       " 12: 'laic-ws1',\n",
       " 13: 'laic-ws1',\n",
       " 14: 'laic-ws1',\n",
       " 15: 'laic-ws1',\n",
       " 16: 'laic-ws1',\n",
       " 17: 'laic-ws1',\n",
       " 18: 'laic-ws1',\n",
       " 19: 'laic-ws1',\n",
       " 20: 'laic-ws1',\n",
       " 21: 'laic-ws1',\n",
       " 22: 'laic-ws1',\n",
       " 23: 'laic-ws1'}"
      ]
     },
     "execution_count": 6,
     "metadata": {},
     "output_type": "execute_result"
    }
   ],
   "source": [
    "engine_hosts = eall.apply_async(socket.gethostname).get_dict()\n",
    "engine_hosts"
   ]
  },
  {
   "cell_type": "code",
   "execution_count": 7,
   "metadata": {
    "ExecuteTime": {
     "end_time": "2016-08-19T16:29:27.504387",
     "start_time": "2016-08-19T16:29:27.491792"
    },
    "collapsed": false
   },
   "outputs": [
    {
     "data": {
      "text/plain": [
       "{'laic-ws1': [0,\n",
       "  1,\n",
       "  2,\n",
       "  3,\n",
       "  4,\n",
       "  5,\n",
       "  6,\n",
       "  7,\n",
       "  8,\n",
       "  9,\n",
       "  10,\n",
       "  11,\n",
       "  12,\n",
       "  13,\n",
       "  14,\n",
       "  15,\n",
       "  16,\n",
       "  17,\n",
       "  18,\n",
       "  19,\n",
       "  20,\n",
       "  21,\n",
       "  22,\n",
       "  23]}"
      ]
     },
     "execution_count": 7,
     "metadata": {},
     "output_type": "execute_result"
    }
   ],
   "source": [
    "host_engines = {}\n",
    "\n",
    "for eid, host in engine_hosts.items():\n",
    "    if host not in host_engines:\n",
    "        host_engines[host] = []\n",
    "    host_engines[host].append(eid)\n",
    "\n",
    "host_engines"
   ]
  },
  {
   "cell_type": "code",
   "execution_count": 8,
   "metadata": {
    "ExecuteTime": {
     "end_time": "2016-08-19T16:29:46.001926",
     "start_time": "2016-08-19T16:29:45.968179"
    },
    "collapsed": true
   },
   "outputs": [],
   "source": [
    "sz = 256\n",
    "data = np.random.random((sz,sz))\n",
    "data = data.dot(data.T)"
   ]
  },
  {
   "cell_type": "code",
   "execution_count": 10,
   "metadata": {
    "ExecuteTime": {
     "end_time": "2016-08-19T16:29:53.365752",
     "start_time": "2016-08-19T16:29:53.359792"
    },
    "collapsed": false
   },
   "outputs": [
    {
     "data": {
      "text/plain": [
       "(256, 256)"
      ]
     },
     "execution_count": 10,
     "metadata": {},
     "output_type": "execute_result"
    }
   ],
   "source": [
    "data.shape"
   ]
  },
  {
   "cell_type": "code",
   "execution_count": 11,
   "metadata": {
    "ExecuteTime": {
     "end_time": "2016-08-19T16:30:21.602388",
     "start_time": "2016-08-19T16:30:21.546768"
    },
    "collapsed": false
   },
   "outputs": [
    {
     "name": "stdout",
     "output_type": "stream",
     "text": [
      "CPU times: user 44 ms, sys: 12 ms, total: 56 ms\n",
      "Wall time: 47.1 ms\n"
     ]
    }
   ],
   "source": [
    "%time _ = rc[:].apply_sync(lambda : None)"
   ]
  },
  {
   "cell_type": "code",
   "execution_count": 12,
   "metadata": {
    "ExecuteTime": {
     "end_time": "2016-08-19T16:30:42.681054",
     "start_time": "2016-08-19T16:30:42.585327"
    },
    "collapsed": false
   },
   "outputs": [
    {
     "name": "stdout",
     "output_type": "stream",
     "text": [
      "  24/24 tasks finished after    0 s\n",
      "done\n"
     ]
    }
   ],
   "source": [
    "ar = rc[:].push({'data': data}, block=False)\n",
    "ar.wait_interactive()"
   ]
  },
  {
   "cell_type": "code",
   "execution_count": 13,
   "metadata": {
    "ExecuteTime": {
     "end_time": "2016-08-19T16:31:01.313800",
     "start_time": "2016-08-19T16:31:01.248833"
    },
    "collapsed": true
   },
   "outputs": [],
   "source": [
    "%px import numpy as np"
   ]
  },
  {
   "cell_type": "code",
   "execution_count": 14,
   "metadata": {
    "ExecuteTime": {
     "end_time": "2016-08-19T16:31:25.653660",
     "start_time": "2016-08-19T16:31:25.645399"
    },
    "collapsed": true
   },
   "outputs": [],
   "source": [
    "def array_to_file(A):\n",
    "    \"\"\"write an array to a temporary file, return its filename\"\"\"\n",
    "    import tempfile\n",
    "    with tempfile.NamedTemporaryFile(suffix='.np', delete=False) as tf:\n",
    "        np.save(tf, data)\n",
    "        data_path = tf.name\n",
    "    return data_path"
   ]
  },
  {
   "cell_type": "code",
   "execution_count": 15,
   "metadata": {
    "ExecuteTime": {
     "end_time": "2016-08-19T16:31:36.008414",
     "start_time": "2016-08-19T16:31:36.002271"
    },
    "collapsed": true
   },
   "outputs": [],
   "source": [
    "@parallel.interactive\n",
    "def load_memmap(name, path, mode='r+'):\n",
    "    \"\"\"load a file on disk into the interactive namespace as a memmapped array\"\"\"\n",
    "    globals()[name] = np.memmap(path, mode=mode)"
   ]
  },
  {
   "cell_type": "code",
   "execution_count": 16,
   "metadata": {
    "ExecuteTime": {
     "end_time": "2016-08-19T16:31:45.690690",
     "start_time": "2016-08-19T16:31:45.665425"
    },
    "collapsed": true
   },
   "outputs": [],
   "source": [
    "def bcast_memmap(data, name, client, host_engines):\n",
    "    \"\"\"broadcast a numpy array efficiently\n",
    "    \n",
    "    - sends data to each remote host only once\n",
    "    - loads with memmap everywhere\n",
    "    \"\"\"\n",
    "\n",
    "    # actually push the data, just once to each machine\n",
    "\n",
    "    local_filename = None\n",
    "    filenames_ars = {}\n",
    "    for host, engines in host_engines.items():\n",
    "        h0 = engines[0]\n",
    "        if host == socket.gethostname():\n",
    "            # Don't push at all to local engines\n",
    "            local_filename = array_to_file(data)\n",
    "        else:\n",
    "            filenames_ars[host] = rc[h0].apply_async(array_to_file, data)\n",
    "\n",
    "    # load the data on all engines into a memmapped array\n",
    "    msg_ids = []\n",
    "    for host, engines in host_engines.items():\n",
    "        if host == socket.gethostname():\n",
    "            filename = local_filename\n",
    "        else:\n",
    "            filename = filenames_ars[host].get()\n",
    "        ar = rc[engines].apply_async(load_memmap, name, filename)\n",
    "        msg_ids.extend(ar.msg_ids)\n",
    "    \n",
    "    return parallel.AsyncResult(client, msg_ids=msg_ids)"
   ]
  },
  {
   "cell_type": "code",
   "execution_count": 17,
   "metadata": {
    "ExecuteTime": {
     "end_time": "2016-08-19T16:31:54.007283",
     "start_time": "2016-08-19T16:31:53.894771"
    },
    "collapsed": false
   },
   "outputs": [
    {
     "ename": "TypeError",
     "evalue": "__init__() got an unexpected keyword argument 'msg_ids'",
     "output_type": "error",
     "traceback": [
      "\u001b[1;31m---------------------------------------------------------------------------\u001b[0m",
      "\u001b[1;31mTypeError\u001b[0m                                 Traceback (most recent call last)",
      "\u001b[1;32m<ipython-input-17-864dbfb25e4e>\u001b[0m in \u001b[0;36m<module>\u001b[1;34m()\u001b[0m\n\u001b[1;32m----> 1\u001b[1;33m \u001b[0mget_ipython\u001b[0m\u001b[1;33m(\u001b[0m\u001b[1;33m)\u001b[0m\u001b[1;33m.\u001b[0m\u001b[0mrun_cell_magic\u001b[0m\u001b[1;33m(\u001b[0m\u001b[1;34mu'time'\u001b[0m\u001b[1;33m,\u001b[0m \u001b[1;34mu''\u001b[0m\u001b[1;33m,\u001b[0m \u001b[1;34mu\"ar = bcast_memmap(data, 'data', rc, host_engines)\\nar.wait_interactive()\"\u001b[0m\u001b[1;33m)\u001b[0m\u001b[1;33m\u001b[0m\u001b[0m\n\u001b[0m",
      "\u001b[1;32m/usr/local/anaconda2/lib/python2.7/site-packages/IPython/core/interactiveshell.pyc\u001b[0m in \u001b[0;36mrun_cell_magic\u001b[1;34m(self, magic_name, line, cell)\u001b[0m\n\u001b[0;32m   2118\u001b[0m             \u001b[0mmagic_arg_s\u001b[0m \u001b[1;33m=\u001b[0m \u001b[0mself\u001b[0m\u001b[1;33m.\u001b[0m\u001b[0mvar_expand\u001b[0m\u001b[1;33m(\u001b[0m\u001b[0mline\u001b[0m\u001b[1;33m,\u001b[0m \u001b[0mstack_depth\u001b[0m\u001b[1;33m)\u001b[0m\u001b[1;33m\u001b[0m\u001b[0m\n\u001b[0;32m   2119\u001b[0m             \u001b[1;32mwith\u001b[0m \u001b[0mself\u001b[0m\u001b[1;33m.\u001b[0m\u001b[0mbuiltin_trap\u001b[0m\u001b[1;33m:\u001b[0m\u001b[1;33m\u001b[0m\u001b[0m\n\u001b[1;32m-> 2120\u001b[1;33m                 \u001b[0mresult\u001b[0m \u001b[1;33m=\u001b[0m \u001b[0mfn\u001b[0m\u001b[1;33m(\u001b[0m\u001b[0mmagic_arg_s\u001b[0m\u001b[1;33m,\u001b[0m \u001b[0mcell\u001b[0m\u001b[1;33m)\u001b[0m\u001b[1;33m\u001b[0m\u001b[0m\n\u001b[0m\u001b[0;32m   2121\u001b[0m             \u001b[1;32mreturn\u001b[0m \u001b[0mresult\u001b[0m\u001b[1;33m\u001b[0m\u001b[0m\n\u001b[0;32m   2122\u001b[0m \u001b[1;33m\u001b[0m\u001b[0m\n",
      "\u001b[1;32m<decorator-gen-60>\u001b[0m in \u001b[0;36mtime\u001b[1;34m(self, line, cell, local_ns)\u001b[0m\n",
      "\u001b[1;32m/usr/local/anaconda2/lib/python2.7/site-packages/IPython/core/magic.pyc\u001b[0m in \u001b[0;36m<lambda>\u001b[1;34m(f, *a, **k)\u001b[0m\n\u001b[0;32m    191\u001b[0m     \u001b[1;31m# but it's overkill for just that one bit of state.\u001b[0m\u001b[1;33m\u001b[0m\u001b[1;33m\u001b[0m\u001b[0m\n\u001b[0;32m    192\u001b[0m     \u001b[1;32mdef\u001b[0m \u001b[0mmagic_deco\u001b[0m\u001b[1;33m(\u001b[0m\u001b[0marg\u001b[0m\u001b[1;33m)\u001b[0m\u001b[1;33m:\u001b[0m\u001b[1;33m\u001b[0m\u001b[0m\n\u001b[1;32m--> 193\u001b[1;33m         \u001b[0mcall\u001b[0m \u001b[1;33m=\u001b[0m \u001b[1;32mlambda\u001b[0m \u001b[0mf\u001b[0m\u001b[1;33m,\u001b[0m \u001b[1;33m*\u001b[0m\u001b[0ma\u001b[0m\u001b[1;33m,\u001b[0m \u001b[1;33m**\u001b[0m\u001b[0mk\u001b[0m\u001b[1;33m:\u001b[0m \u001b[0mf\u001b[0m\u001b[1;33m(\u001b[0m\u001b[1;33m*\u001b[0m\u001b[0ma\u001b[0m\u001b[1;33m,\u001b[0m \u001b[1;33m**\u001b[0m\u001b[0mk\u001b[0m\u001b[1;33m)\u001b[0m\u001b[1;33m\u001b[0m\u001b[0m\n\u001b[0m\u001b[0;32m    194\u001b[0m \u001b[1;33m\u001b[0m\u001b[0m\n\u001b[0;32m    195\u001b[0m         \u001b[1;32mif\u001b[0m \u001b[0mcallable\u001b[0m\u001b[1;33m(\u001b[0m\u001b[0marg\u001b[0m\u001b[1;33m)\u001b[0m\u001b[1;33m:\u001b[0m\u001b[1;33m\u001b[0m\u001b[0m\n",
      "\u001b[1;32m/usr/local/anaconda2/lib/python2.7/site-packages/IPython/core/magics/execution.pyc\u001b[0m in \u001b[0;36mtime\u001b[1;34m(self, line, cell, local_ns)\u001b[0m\n\u001b[0;32m   1175\u001b[0m         \u001b[1;32melse\u001b[0m\u001b[1;33m:\u001b[0m\u001b[1;33m\u001b[0m\u001b[0m\n\u001b[0;32m   1176\u001b[0m             \u001b[0mst\u001b[0m \u001b[1;33m=\u001b[0m \u001b[0mclock2\u001b[0m\u001b[1;33m(\u001b[0m\u001b[1;33m)\u001b[0m\u001b[1;33m\u001b[0m\u001b[0m\n\u001b[1;32m-> 1177\u001b[1;33m             \u001b[1;32mexec\u001b[0m\u001b[1;33m(\u001b[0m\u001b[0mcode\u001b[0m\u001b[1;33m,\u001b[0m \u001b[0mglob\u001b[0m\u001b[1;33m,\u001b[0m \u001b[0mlocal_ns\u001b[0m\u001b[1;33m)\u001b[0m\u001b[1;33m\u001b[0m\u001b[0m\n\u001b[0m\u001b[0;32m   1178\u001b[0m             \u001b[0mend\u001b[0m \u001b[1;33m=\u001b[0m \u001b[0mclock2\u001b[0m\u001b[1;33m(\u001b[0m\u001b[1;33m)\u001b[0m\u001b[1;33m\u001b[0m\u001b[0m\n\u001b[0;32m   1179\u001b[0m             \u001b[0mout\u001b[0m \u001b[1;33m=\u001b[0m \u001b[0mNone\u001b[0m\u001b[1;33m\u001b[0m\u001b[0m\n",
      "\u001b[1;32m<timed exec>\u001b[0m in \u001b[0;36m<module>\u001b[1;34m()\u001b[0m\n",
      "\u001b[1;32m<ipython-input-16-6d268ec40a2d>\u001b[0m in \u001b[0;36mbcast_memmap\u001b[1;34m(data, name, client, host_engines)\u001b[0m\n\u001b[0;32m     28\u001b[0m         \u001b[0mmsg_ids\u001b[0m\u001b[1;33m.\u001b[0m\u001b[0mextend\u001b[0m\u001b[1;33m(\u001b[0m\u001b[0mar\u001b[0m\u001b[1;33m.\u001b[0m\u001b[0mmsg_ids\u001b[0m\u001b[1;33m)\u001b[0m\u001b[1;33m\u001b[0m\u001b[0m\n\u001b[0;32m     29\u001b[0m \u001b[1;33m\u001b[0m\u001b[0m\n\u001b[1;32m---> 30\u001b[1;33m     \u001b[1;32mreturn\u001b[0m \u001b[0mparallel\u001b[0m\u001b[1;33m.\u001b[0m\u001b[0mAsyncResult\u001b[0m\u001b[1;33m(\u001b[0m\u001b[0mclient\u001b[0m\u001b[1;33m,\u001b[0m \u001b[0mmsg_ids\u001b[0m\u001b[1;33m=\u001b[0m\u001b[0mmsg_ids\u001b[0m\u001b[1;33m)\u001b[0m\u001b[1;33m\u001b[0m\u001b[0m\n\u001b[0m",
      "\u001b[1;31mTypeError\u001b[0m: __init__() got an unexpected keyword argument 'msg_ids'"
     ]
    }
   ],
   "source": [
    "%%time\n",
    "ar = bcast_memmap(data, 'data', rc, host_engines)\n",
    "ar.wait_interactive()"
   ]
  },
  {
   "cell_type": "code",
   "execution_count": 18,
   "metadata": {
    "ExecuteTime": {
     "end_time": "2016-08-19T16:32:12.318773",
     "start_time": "2016-08-19T16:32:11.717732"
    },
    "collapsed": false
   },
   "outputs": [
    {
     "data": {
      "text/plain": [
       "\u001b[0;31mOut[0:2]: \u001b[0m95690.227630620677"
      ]
     },
     "metadata": {},
     "output_type": "display_data"
    },
    {
     "data": {
      "text/plain": [
       "\u001b[0;31mOut[1:2]: \u001b[0m95690.227630620677"
      ]
     },
     "metadata": {},
     "output_type": "display_data"
    },
    {
     "data": {
      "text/plain": [
       "\u001b[0;31mOut[2:2]: \u001b[0m95690.227630620677"
      ]
     },
     "metadata": {},
     "output_type": "display_data"
    },
    {
     "data": {
      "text/plain": [
       "\u001b[0;31mOut[3:2]: \u001b[0m95690.227630620677"
      ]
     },
     "metadata": {},
     "output_type": "display_data"
    },
    {
     "data": {
      "text/plain": [
       "\u001b[0;31mOut[4:2]: \u001b[0m95690.227630620677"
      ]
     },
     "metadata": {},
     "output_type": "display_data"
    },
    {
     "data": {
      "text/plain": [
       "\u001b[0;31mOut[5:2]: \u001b[0m95690.227630620677"
      ]
     },
     "metadata": {},
     "output_type": "display_data"
    },
    {
     "data": {
      "text/plain": [
       "\u001b[0;31mOut[6:2]: \u001b[0m95690.227630620677"
      ]
     },
     "metadata": {},
     "output_type": "display_data"
    },
    {
     "data": {
      "text/plain": [
       "\u001b[0;31mOut[7:2]: \u001b[0m95690.227630620677"
      ]
     },
     "metadata": {},
     "output_type": "display_data"
    },
    {
     "data": {
      "text/plain": [
       "\u001b[0;31mOut[8:2]: \u001b[0m95690.227630620677"
      ]
     },
     "metadata": {},
     "output_type": "display_data"
    },
    {
     "data": {
      "text/plain": [
       "\u001b[0;31mOut[9:2]: \u001b[0m95690.227630620677"
      ]
     },
     "metadata": {},
     "output_type": "display_data"
    },
    {
     "data": {
      "text/plain": [
       "\u001b[0;31mOut[10:2]: \u001b[0m95690.227630620677"
      ]
     },
     "metadata": {},
     "output_type": "display_data"
    },
    {
     "data": {
      "text/plain": [
       "\u001b[0;31mOut[11:2]: \u001b[0m95690.227630620677"
      ]
     },
     "metadata": {},
     "output_type": "display_data"
    },
    {
     "data": {
      "text/plain": [
       "\u001b[0;31mOut[12:2]: \u001b[0m95690.227630620677"
      ]
     },
     "metadata": {},
     "output_type": "display_data"
    },
    {
     "data": {
      "text/plain": [
       "\u001b[0;31mOut[13:2]: \u001b[0m95690.227630620677"
      ]
     },
     "metadata": {},
     "output_type": "display_data"
    },
    {
     "data": {
      "text/plain": [
       "\u001b[0;31mOut[14:2]: \u001b[0m95690.227630620677"
      ]
     },
     "metadata": {},
     "output_type": "display_data"
    },
    {
     "data": {
      "text/plain": [
       "\u001b[0;31mOut[15:2]: \u001b[0m95690.227630620677"
      ]
     },
     "metadata": {},
     "output_type": "display_data"
    },
    {
     "data": {
      "text/plain": [
       "\u001b[0;31mOut[16:2]: \u001b[0m95690.227630620677"
      ]
     },
     "metadata": {},
     "output_type": "display_data"
    },
    {
     "data": {
      "text/plain": [
       "\u001b[0;31mOut[17:2]: \u001b[0m95690.227630620677"
      ]
     },
     "metadata": {},
     "output_type": "display_data"
    },
    {
     "data": {
      "text/plain": [
       "\u001b[0;31mOut[18:2]: \u001b[0m95690.227630620677"
      ]
     },
     "metadata": {},
     "output_type": "display_data"
    },
    {
     "data": {
      "text/plain": [
       "\u001b[0;31mOut[19:2]: \u001b[0m95690.227630620677"
      ]
     },
     "metadata": {},
     "output_type": "display_data"
    },
    {
     "data": {
      "text/plain": [
       "\u001b[0;31mOut[20:2]: \u001b[0m95690.227630620677"
      ]
     },
     "metadata": {},
     "output_type": "display_data"
    },
    {
     "data": {
      "text/plain": [
       "\u001b[0;31mOut[21:2]: \u001b[0m95690.227630620677"
      ]
     },
     "metadata": {},
     "output_type": "display_data"
    },
    {
     "data": {
      "text/plain": [
       "\u001b[0;31mOut[22:2]: \u001b[0m95690.227630620677"
      ]
     },
     "metadata": {},
     "output_type": "display_data"
    },
    {
     "data": {
      "text/plain": [
       "\u001b[0;31mOut[23:2]: \u001b[0m95690.227630620677"
      ]
     },
     "metadata": {},
     "output_type": "display_data"
    }
   ],
   "source": [
    "%px np.linalg.norm(data, 2)"
   ]
  },
  {
   "cell_type": "code",
   "execution_count": 23,
   "metadata": {
    "ExecuteTime": {
     "end_time": "2016-08-19T16:37:30.924767",
     "start_time": "2016-08-19T16:37:30.876100"
    },
    "collapsed": false
   },
   "outputs": [
    {
     "data": {
      "text/plain": [
       "<AsyncResult: scatter>"
      ]
     },
     "execution_count": 23,
     "metadata": {},
     "output_type": "execute_result"
    }
   ],
   "source": [
    "eall.scatter('ind', np.arange(48))"
   ]
  },
  {
   "cell_type": "code",
   "execution_count": 32,
   "metadata": {
    "ExecuteTime": {
     "end_time": "2016-08-19T16:39:06.764040",
     "start_time": "2016-08-19T16:39:06.733806"
    },
    "collapsed": false
   },
   "outputs": [
    {
     "data": {
      "text/plain": [
       "<AsyncResult: execute>"
      ]
     },
     "execution_count": 32,
     "metadata": {},
     "output_type": "execute_result"
    }
   ],
   "source": [
    "%%px --target : --noblock\n",
    "print ind"
   ]
  },
  {
   "cell_type": "code",
   "execution_count": 35,
   "metadata": {
    "ExecuteTime": {
     "end_time": "2016-08-19T16:39:34.101479",
     "start_time": "2016-08-19T16:39:34.094734"
    },
    "collapsed": false,
    "scrolled": true
   },
   "outputs": [
    {
     "name": "stdout",
     "output_type": "stream",
     "text": [
      "[stdout:0] [0 1]\n",
      "[stdout:1] [2 3]\n",
      "[stdout:2] [4 5]\n",
      "[stdout:3] [6 7]\n",
      "[stdout:4] [8 9]\n",
      "[stdout:5] [10 11]\n",
      "[stdout:6] [12 13]\n",
      "[stdout:7] [14 15]\n",
      "[stdout:8] [16 17]\n",
      "[stdout:9] [18 19]\n",
      "[stdout:10] [20 21]\n",
      "[stdout:11] [22 23]\n",
      "[stdout:12] [24 25]\n",
      "[stdout:13] [26 27]\n",
      "[stdout:14] [28 29]\n",
      "[stdout:15] [30 31]\n",
      "[stdout:16] [32 33]\n",
      "[stdout:17] [34 35]\n",
      "[stdout:18] [36 37]\n",
      "[stdout:19] [38 39]\n",
      "[stdout:20] [40 41]\n",
      "[stdout:21] [42 43]\n",
      "[stdout:22] [44 45]\n",
      "[stdout:23] [46 47]\n"
     ]
    }
   ],
   "source": [
    "%pxresult"
   ]
  },
  {
   "cell_type": "code",
   "execution_count": null,
   "metadata": {
    "collapsed": true
   },
   "outputs": [],
   "source": []
  }
 ],
 "metadata": {
  "kernelspec": {
   "display_name": "Python [Root]",
   "language": "python",
   "name": "Python [Root]"
  },
  "language_info": {
   "codemirror_mode": {
    "name": "ipython",
    "version": 2
   },
   "file_extension": ".py",
   "mimetype": "text/x-python",
   "name": "python",
   "nbconvert_exporter": "python",
   "pygments_lexer": "ipython2",
   "version": "2.7.12"
  }
 },
 "nbformat": 4,
 "nbformat_minor": 0
}
