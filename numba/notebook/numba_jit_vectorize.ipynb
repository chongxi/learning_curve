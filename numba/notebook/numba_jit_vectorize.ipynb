{
 "cells": [
  {
   "cell_type": "code",
   "execution_count": 4,
   "metadata": {
    "ExecuteTime": {
     "end_time": "2016-07-17T18:06:07.893860",
     "start_time": "2016-07-17T18:06:07.890227"
    },
    "collapsed": true
   },
   "outputs": [],
   "source": [
    "from IPython.display import YouTubeVideo"
   ]
  },
  {
   "cell_type": "code",
   "execution_count": 10,
   "metadata": {
    "ExecuteTime": {
     "end_time": "2016-07-17T18:07:37.830271",
     "start_time": "2016-07-17T18:07:37.825708"
    },
    "collapsed": false,
    "scrolled": false
   },
   "outputs": [
    {
     "data": {
      "text/html": [
       "\n",
       "        <iframe\n",
       "            width=\"860\"\n",
       "            height=\"480\"\n",
       "            src=\"https://www.youtube.com/embed/eYIPEDnp5C4\"\n",
       "            frameborder=\"0\"\n",
       "            allowfullscreen\n",
       "        ></iframe>\n",
       "        "
      ],
      "text/plain": [
       "<IPython.lib.display.YouTubeVideo at 0x10cfce950>"
      ]
     },
     "execution_count": 10,
     "metadata": {},
     "output_type": "execute_result"
    }
   ],
   "source": [
    "YouTubeVideo('eYIPEDnp5C4', width=860,height=480)"
   ]
  },
  {
   "cell_type": "markdown",
   "metadata": {},
   "source": [
    "<img  src=\"numba.png\"/>"
   ]
  },
  {
   "cell_type": "code",
   "execution_count": 1,
   "metadata": {
    "ExecuteTime": {
     "end_time": "2016-07-17T18:03:05.380421",
     "start_time": "2016-07-17T18:03:03.996588"
    },
    "collapsed": false
   },
   "outputs": [
    {
     "name": "stdout",
     "output_type": "stream",
     "text": [
      "Populating the interactive namespace from numpy and matplotlib\n"
     ]
    }
   ],
   "source": [
    "%pylab inline\n",
    "import seaborn as sns\n",
    "from numba import jit"
   ]
  },
  {
   "cell_type": "markdown",
   "metadata": {},
   "source": [
    "# Numba JIT"
   ]
  },
  {
   "cell_type": "markdown",
   "metadata": {},
   "source": [
    "<img  src=\"unspecified.png\"/>"
   ]
  },
  {
   "cell_type": "code",
   "execution_count": 2,
   "metadata": {
    "ExecuteTime": {
     "end_time": "2016-07-17T17:09:34.313295",
     "start_time": "2016-07-17T17:09:34.289880"
    },
    "collapsed": true
   },
   "outputs": [],
   "source": [
    "@jit\n",
    "def nan_compact(x):\n",
    "    out = np.empty_like(x)\n",
    "    out_index = 0\n",
    "    for element in x:\n",
    "        if not np.isnan(element):\n",
    "            out[out_index] = element\n",
    "            out_index += 1\n",
    "    return out[:out_index]"
   ]
  },
  {
   "cell_type": "code",
   "execution_count": 3,
   "metadata": {
    "ExecuteTime": {
     "end_time": "2016-07-17T17:09:34.861559",
     "start_time": "2016-07-17T17:09:34.857310"
    },
    "collapsed": false
   },
   "outputs": [],
   "source": [
    "a = np.random.uniform(size=10000).astype('float32')\n",
    "a[a<0.2] = np.nan"
   ]
  },
  {
   "cell_type": "code",
   "execution_count": 4,
   "metadata": {
    "ExecuteTime": {
     "end_time": "2016-07-17T17:09:37.286502",
     "start_time": "2016-07-17T17:09:35.353242"
    },
    "collapsed": false
   },
   "outputs": [
    {
     "name": "stdout",
     "output_type": "stream",
     "text": [
      "The slowest run took 4.02 times longer than the fastest. This could mean that an intermediate result is being cached \n",
      "10000 loops, best of 3: 45.5 µs per loop\n"
     ]
    }
   ],
   "source": [
    "%timeit a[~np.isnan(a)]"
   ]
  },
  {
   "cell_type": "code",
   "execution_count": 5,
   "metadata": {
    "ExecuteTime": {
     "end_time": "2016-07-17T17:09:38.413099",
     "start_time": "2016-07-17T17:09:37.288578"
    },
    "collapsed": false,
    "scrolled": true
   },
   "outputs": [
    {
     "name": "stdout",
     "output_type": "stream",
     "text": [
      "The slowest run took 7207.85 times longer than the fastest. This could mean that an intermediate result is being cached \n",
      "10000 loops, best of 3: 22.5 µs per loop\n"
     ]
    }
   ],
   "source": [
    "%timeit nan_compact(a)"
   ]
  },
  {
   "cell_type": "code",
   "execution_count": 6,
   "metadata": {
    "ExecuteTime": {
     "end_time": "2016-07-17T17:09:40.033220",
     "start_time": "2016-07-17T17:09:40.024881"
    },
    "collapsed": false
   },
   "outputs": [
    {
     "data": {
      "text/plain": [
       "True"
      ]
     },
     "execution_count": 6,
     "metadata": {},
     "output_type": "execute_result"
    }
   ],
   "source": [
    "np.array_equal(nan_compact(a), a[~np.isnan(a)])"
   ]
  },
  {
   "cell_type": "code",
   "execution_count": null,
   "metadata": {
    "collapsed": true
   },
   "outputs": [],
   "source": []
  },
  {
   "cell_type": "markdown",
   "metadata": {},
   "source": [
    "# Numba Vectorize for Ufuncs"
   ]
  },
  {
   "cell_type": "markdown",
   "metadata": {},
   "source": [
    "### Example: Monte Carlo Simulating 1000000 gambles in 120ms"
   ]
  },
  {
   "cell_type": "markdown",
   "metadata": {},
   "source": [
    "Say you want to simulate the expectation of wining the game, using monte corlo methods.\n",
    "The "
   ]
  },
  {
   "cell_type": "markdown",
   "metadata": {},
   "source": [
    "<img  src=\"ufunc.png\"/>"
   ]
  },
  {
   "cell_type": "code",
   "execution_count": 7,
   "metadata": {
    "ExecuteTime": {
     "end_time": "2016-07-17T17:09:41.868317",
     "start_time": "2016-07-17T17:09:41.864827"
    },
    "collapsed": true
   },
   "outputs": [],
   "source": [
    "from numba import vectorize"
   ]
  },
  {
   "cell_type": "code",
   "execution_count": 25,
   "metadata": {
    "ExecuteTime": {
     "end_time": "2016-07-17T17:50:53.462759",
     "start_time": "2016-07-17T17:50:53.455235"
    },
    "collapsed": true
   },
   "outputs": [],
   "source": [
    "@vectorize(nopython=True)\n",
    "def game_wins(win_prob, max_wins, max_losses):\n",
    "    wins = 0\n",
    "    losses = 0\n",
    "    while wins < max_wins and losses < max_losses:\n",
    "        if np.random.rand() < win_prob:\n",
    "            wins += 1\n",
    "        else:\n",
    "            losses += 1\n",
    "            \n",
    "    return wins"
   ]
  },
  {
   "cell_type": "code",
   "execution_count": 26,
   "metadata": {
    "ExecuteTime": {
     "end_time": "2016-07-17T17:50:53.949019",
     "start_time": "2016-07-17T17:50:53.942605"
    },
    "collapsed": true
   },
   "outputs": [],
   "source": [
    "# win_prob range from 0 to 1\n",
    "# 5000 experiments\n",
    "sim_input = np.tile(np.linspace(0., 1., 100), (10000,1))"
   ]
  },
  {
   "cell_type": "code",
   "execution_count": 27,
   "metadata": {
    "ExecuteTime": {
     "end_time": "2016-07-17T17:50:55.144834",
     "start_time": "2016-07-17T17:50:55.061608"
    },
    "collapsed": false
   },
   "outputs": [
    {
     "data": {
      "text/plain": [
       "2"
      ]
     },
     "execution_count": 27,
     "metadata": {},
     "output_type": "execute_result"
    }
   ],
   "source": [
    "game_wins(0.5, 12, 3)"
   ]
  },
  {
   "cell_type": "markdown",
   "metadata": {},
   "source": [
    "Because sim_input is a matrix, and game_wins is a kernel that you want to apply on your matrix, you turn game_wins(0.5,12,3) into game_wins(prob_matrix, 12, 3)"
   ]
  },
  {
   "cell_type": "code",
   "execution_count": 28,
   "metadata": {
    "ExecuteTime": {
     "end_time": "2016-07-17T17:50:56.665610",
     "start_time": "2016-07-17T17:50:56.524517"
    },
    "collapsed": false
   },
   "outputs": [],
   "source": [
    "sim_results = game_wins(sim_input, 12, 3)"
   ]
  },
  {
   "cell_type": "code",
   "execution_count": 18,
   "metadata": {
    "ExecuteTime": {
     "end_time": "2016-07-17T17:10:05.350781",
     "start_time": "2016-07-17T17:10:00.096172"
    },
    "collapsed": false,
    "scrolled": false
   },
   "outputs": [
    {
     "name": "stdout",
     "output_type": "stream",
     "text": [
      "10 loops, best of 3: 126 ms per loop\n"
     ]
    }
   ],
   "source": [
    "%timeit game_wins(sim_input, 12, 3)"
   ]
  },
  {
   "cell_type": "code",
   "execution_count": 19,
   "metadata": {
    "ExecuteTime": {
     "end_time": "2016-07-17T17:10:06.439076",
     "start_time": "2016-07-17T17:10:06.432739"
    },
    "collapsed": false
   },
   "outputs": [],
   "source": [
    "wins = sim_results.mean(axis=0)"
   ]
  },
  {
   "cell_type": "code",
   "execution_count": 20,
   "metadata": {
    "ExecuteTime": {
     "end_time": "2016-07-17T17:10:07.480485",
     "start_time": "2016-07-17T17:10:07.256198"
    },
    "collapsed": false,
    "scrolled": true
   },
   "outputs": [
    {
     "data": {
      "text/plain": [
       "[<matplotlib.lines.Line2D at 0x10e2db050>]"
      ]
     },
     "execution_count": 20,
     "metadata": {},
     "output_type": "execute_result"
    },
    {
     "data": {
      "image/png": "[encoded data removed]",
      "text/plain": [
       "<matplotlib.figure.Figure at 0x10d289b50>"
      ]
     },
     "metadata": {},
     "output_type": "display_data"
    }
   ],
   "source": [
    "plt.plot(wins)"
   ]
  }
 ],
 "metadata": {
  "kernelspec": {
   "display_name": "Python 2",
   "language": "python",
   "name": "python2"
  },
  "language_info": {
   "codemirror_mode": {
    "name": "ipython",
    "version": 2
   },
   "file_extension": ".py",
   "mimetype": "text/x-python",
   "name": "python",
   "nbconvert_exporter": "python",
   "pygments_lexer": "ipython2",
   "version": "2.7.11"
  }
 },
 "nbformat": 4,
 "nbformat_minor": 0
}
