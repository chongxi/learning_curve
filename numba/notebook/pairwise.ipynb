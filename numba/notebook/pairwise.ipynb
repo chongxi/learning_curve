{
 "cells": [
  {
   "cell_type": "code",
   "execution_count": 1,
   "metadata": {
    "ExecuteTime": {
     "end_time": "2016-07-27T19:10:13.114827",
     "start_time": "2016-07-27T19:10:12.648538"
    },
    "collapsed": false
   },
   "outputs": [
    {
     "name": "stdout",
     "output_type": "stream",
     "text": [
      "Populating the interactive namespace from numpy and matplotlib\n"
     ]
    }
   ],
   "source": [
    "%pylab inline"
   ]
  },
  {
   "cell_type": "code",
   "execution_count": 14,
   "metadata": {
    "ExecuteTime": {
     "end_time": "2016-07-27T19:12:50.379507",
     "start_time": "2016-07-27T19:12:50.376660"
    },
    "collapsed": true
   },
   "outputs": [],
   "source": [
    "from sklearn.metrics import pairwise_distances"
   ]
  },
  {
   "cell_type": "code",
   "execution_count": 3,
   "metadata": {
    "ExecuteTime": {
     "end_time": "2016-07-27T19:10:20.502559",
     "start_time": "2016-07-27T19:10:20.214559"
    },
    "collapsed": false
   },
   "outputs": [],
   "source": [
    "from numba import jit, float32"
   ]
  },
  {
   "cell_type": "code",
   "execution_count": 27,
   "metadata": {
    "ExecuteTime": {
     "end_time": "2016-07-27T19:14:29.538397",
     "start_time": "2016-07-27T19:14:29.385842"
    },
    "collapsed": true
   },
   "outputs": [],
   "source": [
    "@jit('(float32[:,:],float32[:,:])')\n",
    "def numba_pairwise(X,D):\n",
    "    M = X.shape[0]\n",
    "    N = X.shape[1]\n",
    "    for i in range(M):\n",
    "        for j in range(M):\n",
    "            d = 0.0\n",
    "            for k in range(N):\n",
    "                d += (X[i,k]-X[j,k]) * (X[i,k]-X[j,k])\n",
    "            D[i,j] = np.sqrt(d)"
   ]
  },
  {
   "cell_type": "code",
   "execution_count": 30,
   "metadata": {
    "ExecuteTime": {
     "end_time": "2016-07-27T19:14:57.226932",
     "start_time": "2016-07-27T19:14:56.570655"
    },
    "collapsed": false
   },
   "outputs": [],
   "source": [
    "X = np.random.randn(10000,25).astype('float32')\n",
    "D = np.empty((X.shape[0], X.shape[0])).astype(X.dtype)"
   ]
  },
  {
   "cell_type": "code",
   "execution_count": 31,
   "metadata": {
    "ExecuteTime": {
     "end_time": "2016-07-27T19:15:00.925378",
     "start_time": "2016-07-27T19:14:57.849222"
    },
    "collapsed": false
   },
   "outputs": [],
   "source": [
    "numba_pairwise(X,D)"
   ]
  },
  {
   "cell_type": "code",
   "execution_count": 32,
   "metadata": {
    "ExecuteTime": {
     "end_time": "2016-07-27T19:15:03.180603",
     "start_time": "2016-07-27T19:15:01.912568"
    },
    "collapsed": true
   },
   "outputs": [],
   "source": [
    "_D = pairwise_distances(X)"
   ]
  },
  {
   "cell_type": "code",
   "execution_count": 33,
   "metadata": {
    "ExecuteTime": {
     "end_time": "2016-07-27T19:15:04.729250",
     "start_time": "2016-07-27T19:15:04.434667"
    },
    "collapsed": false
   },
   "outputs": [
    {
     "data": {
      "text/plain": [
       "0.13161564"
      ]
     },
     "execution_count": 33,
     "metadata": {},
     "output_type": "execute_result"
    }
   ],
   "source": [
    "sum(D-_D)"
   ]
  },
  {
   "cell_type": "code",
   "execution_count": null,
   "metadata": {
    "collapsed": true
   },
   "outputs": [],
   "source": []
  }
 ],
 "metadata": {
  "kernelspec": {
   "display_name": "Python 2",
   "language": "python",
   "name": "python2"
  },
  "language_info": {
   "codemirror_mode": {
    "name": "ipython",
    "version": 2
   },
   "file_extension": ".py",
   "mimetype": "text/x-python",
   "name": "python",
   "nbconvert_exporter": "python",
   "pygments_lexer": "ipython2",
   "version": "2.7.11"
  }
 },
 "nbformat": 4,
 "nbformat_minor": 0
}
