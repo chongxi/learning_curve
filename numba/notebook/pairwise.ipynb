{
 "cells": [
  {
   "cell_type": "code",
   "execution_count": 1,
   "metadata": {
    "ExecuteTime": {
     "end_time": "2016-07-27T19:10:13.114827",
     "start_time": "2016-07-27T19:10:12.648538"
    },
    "collapsed": false
   },
   "outputs": [
    {
     "name": "stdout",
     "output_type": "stream",
     "text": [
      "Populating the interactive namespace from numpy and matplotlib\n"
     ]
    }
   ],
   "source": [
    "%pylab inline"
   ]
  },
  {
   "cell_type": "code",
   "execution_count": 2,
   "metadata": {
    "ExecuteTime": {
     "end_time": "2016-07-27T19:12:50.379507",
     "start_time": "2016-07-27T19:12:50.376660"
    },
    "collapsed": true
   },
   "outputs": [],
   "source": [
    "from sklearn.metrics import pairwise_distances"
   ]
  },
  {
   "cell_type": "code",
   "execution_count": 3,
   "metadata": {
    "ExecuteTime": {
     "end_time": "2016-07-27T19:10:20.502559",
     "start_time": "2016-07-27T19:10:20.214559"
    },
    "collapsed": false
   },
   "outputs": [],
   "source": [
    "from numba import jit, float32"
   ]
  },
  {
   "cell_type": "code",
   "execution_count": 23,
   "metadata": {
    "ExecuteTime": {
     "end_time": "2016-07-27T19:14:29.538397",
     "start_time": "2016-07-27T19:14:29.385842"
    },
    "collapsed": true
   },
   "outputs": [],
   "source": [
    "@jit(cache=True)\n",
    "def numba_pairwise(X):\n",
    "    M, N = X.shape\n",
    "    D = np.empty((M,M)).astype(X.dtype)\n",
    "    for i in range(M):\n",
    "        for j in range(M):\n",
    "            d = 0.0\n",
    "            for k in range(N):\n",
    "                d += (X[i,k]-X[j,k]) ** 2\n",
    "            D[i,j] = np.sqrt(d)\n",
    "    return D"
   ]
  },
  {
   "cell_type": "code",
   "execution_count": 24,
   "metadata": {
    "ExecuteTime": {
     "end_time": "2016-07-27T19:14:57.226932",
     "start_time": "2016-07-27T19:14:56.570655"
    },
    "collapsed": false
   },
   "outputs": [],
   "source": [
    "X = np.random.randn(10000,25).astype('float32')\n"
   ]
  },
  {
   "cell_type": "code",
   "execution_count": 25,
   "metadata": {
    "ExecuteTime": {
     "end_time": "2016-07-27T19:15:00.925378",
     "start_time": "2016-07-27T19:14:57.849222"
    },
    "collapsed": false
   },
   "outputs": [
    {
     "name": "stdout",
     "output_type": "stream",
     "text": [
      "1 loop, best of 3: 2.8 s per loop\n"
     ]
    }
   ],
   "source": [
    "%%timeit\n",
    "numba_pairwise(X,D)"
   ]
  },
  {
   "cell_type": "code",
   "execution_count": 26,
   "metadata": {
    "ExecuteTime": {
     "end_time": "2016-07-27T19:15:03.180603",
     "start_time": "2016-07-27T19:15:01.912568"
    },
    "collapsed": false
   },
   "outputs": [
    {
     "name": "stdout",
     "output_type": "stream",
     "text": [
      "1 loop, best of 3: 1.13 s per loop\n"
     ]
    }
   ],
   "source": [
    "%%timeit\n",
    "_D = pairwise_distances(X)"
   ]
  },
  {
   "cell_type": "code",
   "execution_count": 17,
   "metadata": {
    "ExecuteTime": {
     "end_time": "2016-07-27T19:15:04.729250",
     "start_time": "2016-07-27T19:15:04.434667"
    },
    "collapsed": false
   },
   "outputs": [
    {
     "data": {
      "text/plain": [
       "0.17558604"
      ]
     },
     "execution_count": 17,
     "metadata": {},
     "output_type": "execute_result"
    }
   ],
   "source": [
    "sum(D-_D)"
   ]
  },
  {
   "cell_type": "code",
   "execution_count": null,
   "metadata": {
    "collapsed": true
   },
   "outputs": [],
   "source": []
  }
 ],
 "metadata": {
  "anaconda-cloud": {},
  "kernelspec": {
   "display_name": "Python [default]",
   "language": "python",
   "name": "python2"
  },
  "language_info": {
   "codemirror_mode": {
    "name": "ipython",
    "version": 2
   },
   "file_extension": ".py",
   "mimetype": "text/x-python",
   "name": "python",
   "nbconvert_exporter": "python",
   "pygments_lexer": "ipython2",
   "version": "2.7.12"
  }
 },
 "nbformat": 4,
 "nbformat_minor": 0
}
