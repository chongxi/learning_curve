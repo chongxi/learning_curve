{
 "cells": [
  {
   "cell_type": "markdown",
   "metadata": {},
   "source": [
    "# Linearly independent, Orthogonal, and Uncorrelated"
   ]
  },
  {
   "cell_type": "markdown",
   "metadata": {},
   "source": [
    "> These are three terms used to indicate lack of relationship between\n",
    "variables. This short didactic article compares\n",
    "these three terms in both an algebraic and a geometric\n",
    "framework. An example is used to illustrate the\n",
    "differences. \n",
    "> <img  src=\"figure1.png\"/>\n",
    "\n",
    "> Each variable is a vector lying in the observation\n",
    "space of n dimensions. **Linearly independent** variables\n",
    "are those with vectors that do not fall along the same\n",
    "line; that is, there is no multiplicative constant that will\n",
    "expand, contract, or reflect one vector onto the other.\n",
    "**Orthogonal** variables are a special case of linearly independent\n",
    "variables. Not only do their vectors not fall\n",
    "along the same line, but they also fall perfectly at right\n",
    "angles to one another (or, equivalently, the cosine of\n",
    "the angle between them is zero). The relationship between\n",
    "\"linear independence\" and \"orthogonality\" is\n",
    "thus straightforward and simple.\n",
    "\n",
    "\n",
    "> **Uncorrelated** variables are a bit more complex. To\n",
    "say variables are uncorrelated indicates nothing about\n",
    "the raw variables themselves. Rather, **uncorrelated**\n",
    "implies that once each variable is *centered* (i.e., the\n",
    "mean of each vector is subtracted from the elements of\n",
    "that vector), then the vectors are perpendicular. The\n",
    "key to appreciating this distinction is *recognizing that\n",
    "centering each variable can and often will change the\n",
    "angle between the two vectors.* Thus, orthogonal denotes\n",
    "that the raw variables are perpendicular. Uncorrelated\n",
    "denotes that the centered variables are\n",
    "perpendicular.\n",
    "\n",
    "> Each of the following situations can occur: Two variables\n",
    "that are perpendicular can become oblique once\n",
    "they are *centered* (zero-mean); these are orthogonal but not uncorrelated.\n",
    "Two variables not perpendicular can become perpendicular once they are centered;\n",
    "these are uncorrelated but not orthogonal. And finally,\n",
    "two variables may be both orthogonal and uncorrelated\n",
    "if centering does not change the angle between their\n",
    "vectors. In each case, of course, the variables are linearly\n",
    "independent. Figure 1 gives a pictorial portrayal of\n",
    "the relationships among these three terms. Examples of\n",
    "sets of variables that correspond to each possible situation\n",
    "are shown.\n",
    "\n",
    "> [Linearly Independent, Orthogonal, and Uncorrelated Variables](http://terpconnect.umd.edu/~bmomen/BIOM621/LineardepCorrOrthogonal.pdf)  by JOSEPH LEE RODGERS"
   ]
  },
  {
   "cell_type": "code",
   "execution_count": 1,
   "metadata": {
    "ExecuteTime": {
     "end_time": "2016-08-27T17:37:35.859550",
     "start_time": "2016-08-27T17:37:35.341067"
    },
    "collapsed": false,
    "scrolled": false
   },
   "outputs": [
    {
     "name": "stdout",
     "output_type": "stream",
     "text": [
      "Populating the interactive namespace from numpy and matplotlib\n"
     ]
    }
   ],
   "source": [
    "%pylab inline"
   ]
  },
  {
   "cell_type": "markdown",
   "metadata": {
    "ExecuteTime": {
     "end_time": "2016-08-27T17:40:40.957966",
     "start_time": "2016-08-27T17:40:40.954067"
    }
   },
   "source": [
    "### Uncorrelated"
   ]
  },
  {
   "cell_type": "code",
   "execution_count": 4,
   "metadata": {
    "ExecuteTime": {
     "end_time": "2016-08-27T17:38:12.313173",
     "start_time": "2016-08-27T17:38:12.307816"
    },
    "collapsed": false
   },
   "outputs": [],
   "source": [
    "x = np.array([0,0,1,1])\n",
    "y = np.array([1,0,1,0])"
   ]
  },
  {
   "cell_type": "code",
   "execution_count": 5,
   "metadata": {
    "ExecuteTime": {
     "end_time": "2016-08-27T17:38:13.018306",
     "start_time": "2016-08-27T17:38:13.011580"
    },
    "collapsed": false,
    "scrolled": true
   },
   "outputs": [
    {
     "data": {
      "text/plain": [
       "1"
      ]
     },
     "execution_count": 5,
     "metadata": {},
     "output_type": "execute_result"
    }
   ],
   "source": [
    "np.dot(x,y)"
   ]
  },
  {
   "cell_type": "code",
   "execution_count": 6,
   "metadata": {
    "ExecuteTime": {
     "end_time": "2016-08-27T17:38:31.626958",
     "start_time": "2016-08-27T17:38:31.617726"
    },
    "collapsed": false
   },
   "outputs": [
    {
     "data": {
      "text/plain": [
       "0.0"
      ]
     },
     "execution_count": 6,
     "metadata": {},
     "output_type": "execute_result"
    }
   ],
   "source": [
    "np.dot((x-x.mean()), (y-y.mean()))"
   ]
  },
  {
   "cell_type": "code",
   "execution_count": 8,
   "metadata": {
    "ExecuteTime": {
     "end_time": "2016-08-27T17:39:18.666909",
     "start_time": "2016-08-27T17:39:18.635718"
    },
    "collapsed": false
   },
   "outputs": [
    {
     "data": {
      "text/plain": [
       "array([[ 1.,  0.],\n",
       "       [ 0.,  1.]])"
      ]
     },
     "execution_count": 8,
     "metadata": {},
     "output_type": "execute_result"
    }
   ],
   "source": [
    "np.corrcoef(x,y)"
   ]
  },
  {
   "cell_type": "code",
   "execution_count": 10,
   "metadata": {
    "ExecuteTime": {
     "end_time": "2016-08-27T17:40:09.515786",
     "start_time": "2016-08-27T17:40:09.507888"
    },
    "collapsed": false
   },
   "outputs": [
    {
     "data": {
      "text/plain": [
       "array([[ 0.33333333,  0.        ],\n",
       "       [ 0.        ,  0.33333333]])"
      ]
     },
     "execution_count": 10,
     "metadata": {},
     "output_type": "execute_result"
    }
   ],
   "source": [
    "np.cov(x,y)"
   ]
  },
  {
   "cell_type": "code",
   "execution_count": null,
   "metadata": {
    "collapsed": true
   },
   "outputs": [],
   "source": []
  },
  {
   "cell_type": "code",
   "execution_count": null,
   "metadata": {
    "collapsed": true
   },
   "outputs": [],
   "source": []
  },
  {
   "cell_type": "markdown",
   "metadata": {},
   "source": [
    "### Orthogonal"
   ]
  },
  {
   "cell_type": "code",
   "execution_count": 12,
   "metadata": {
    "ExecuteTime": {
     "end_time": "2016-08-27T17:42:00.645759",
     "start_time": "2016-08-27T17:42:00.640095"
    },
    "collapsed": true
   },
   "outputs": [],
   "source": [
    "x = np.array([1, -5, 3,-1])\n",
    "y = np.array([5,  1, 1, 3])"
   ]
  },
  {
   "cell_type": "code",
   "execution_count": 13,
   "metadata": {
    "ExecuteTime": {
     "end_time": "2016-08-27T17:42:04.957162",
     "start_time": "2016-08-27T17:42:04.950324"
    },
    "collapsed": false
   },
   "outputs": [
    {
     "data": {
      "text/plain": [
       "0"
      ]
     },
     "execution_count": 13,
     "metadata": {},
     "output_type": "execute_result"
    }
   ],
   "source": [
    "np.dot(x,y)"
   ]
  },
  {
   "cell_type": "code",
   "execution_count": 14,
   "metadata": {
    "ExecuteTime": {
     "end_time": "2016-08-27T17:42:32.436665",
     "start_time": "2016-08-27T17:42:32.429467"
    },
    "collapsed": false
   },
   "outputs": [
    {
     "data": {
      "text/plain": [
       "5.0"
      ]
     },
     "execution_count": 14,
     "metadata": {},
     "output_type": "execute_result"
    }
   ],
   "source": [
    "np.dot((x-x.mean()), y-y.mean())"
   ]
  },
  {
   "cell_type": "code",
   "execution_count": 15,
   "metadata": {
    "ExecuteTime": {
     "end_time": "2016-08-27T17:42:37.604585",
     "start_time": "2016-08-27T17:42:37.596726"
    },
    "collapsed": false
   },
   "outputs": [
    {
     "data": {
      "text/plain": [
       "array([[ 11.66666667,   1.66666667],\n",
       "       [  1.66666667,   3.66666667]])"
      ]
     },
     "execution_count": 15,
     "metadata": {},
     "output_type": "execute_result"
    }
   ],
   "source": [
    "np.cov(x,y)"
   ]
  },
  {
   "cell_type": "code",
   "execution_count": null,
   "metadata": {
    "collapsed": true
   },
   "outputs": [],
   "source": []
  },
  {
   "cell_type": "code",
   "execution_count": null,
   "metadata": {
    "collapsed": true
   },
   "outputs": [],
   "source": []
  },
  {
   "cell_type": "markdown",
   "metadata": {},
   "source": [
    "### Orthonomal\n",
    "\n",
    "can be correlated"
   ]
  },
  {
   "cell_type": "code",
   "execution_count": 16,
   "metadata": {
    "ExecuteTime": {
     "end_time": "2016-08-27T17:49:25.408677",
     "start_time": "2016-08-27T17:49:25.402559"
    },
    "collapsed": true
   },
   "outputs": [],
   "source": [
    "x = np.array([1,0,0])\n",
    "y = np.array([0,1,0])\n",
    "z = np.array([0,0,1])"
   ]
  },
  {
   "cell_type": "code",
   "execution_count": 22,
   "metadata": {
    "ExecuteTime": {
     "end_time": "2016-08-27T17:50:37.849006",
     "start_time": "2016-08-27T17:50:37.842322"
    },
    "collapsed": false
   },
   "outputs": [
    {
     "data": {
      "text/plain": [
       "1.0"
      ]
     },
     "execution_count": 22,
     "metadata": {},
     "output_type": "execute_result"
    }
   ],
   "source": [
    "np.linalg.norm(x)"
   ]
  },
  {
   "cell_type": "code",
   "execution_count": 20,
   "metadata": {
    "ExecuteTime": {
     "end_time": "2016-08-27T17:50:09.644614",
     "start_time": "2016-08-27T17:50:09.636033"
    },
    "collapsed": false
   },
   "outputs": [
    {
     "data": {
      "text/plain": [
       "array([[ 0.33333333, -0.16666667],\n",
       "       [-0.16666667,  0.33333333]])"
      ]
     },
     "execution_count": 20,
     "metadata": {},
     "output_type": "execute_result"
    }
   ],
   "source": [
    "np.cov(x,y)"
   ]
  },
  {
   "cell_type": "code",
   "execution_count": null,
   "metadata": {
    "collapsed": true
   },
   "outputs": [],
   "source": []
  }
 ],
 "metadata": {
  "kernelspec": {
   "display_name": "Python [Root]",
   "language": "python",
   "name": "Python [Root]"
  },
  "language_info": {
   "codemirror_mode": {
    "name": "ipython",
    "version": 2
   },
   "file_extension": ".py",
   "mimetype": "text/x-python",
   "name": "python",
   "nbconvert_exporter": "python",
   "pygments_lexer": "ipython2",
   "version": "2.7.12"
  }
 },
 "nbformat": 4,
 "nbformat_minor": 0
}
