{
 "cells": [
  {
   "cell_type": "code",
   "execution_count": 1,
   "metadata": {
    "ExecuteTime": {
     "end_time": "2016-07-15T16:21:56.012667",
     "start_time": "2016-07-15T16:21:55.259903"
    },
    "collapsed": false
   },
   "outputs": [
    {
     "ename": "ImportError",
     "evalue": "No module named optimizers",
     "output_type": "error",
     "traceback": [
      "\u001b[0;31m---------------------------------------------------------------------------\u001b[0m",
      "\u001b[0;31mImportError\u001b[0m                               Traceback (most recent call last)",
      "\u001b[0;32m<ipython-input-1-30db2467a4df>\u001b[0m in \u001b[0;36m<module>\u001b[0;34m()\u001b[0m\n\u001b[1;32m      7\u001b[0m \u001b[0;32mfrom\u001b[0m \u001b[0mautograd\u001b[0m \u001b[0;32mimport\u001b[0m \u001b[0mgrad\u001b[0m\u001b[0;34m\u001b[0m\u001b[0m\n\u001b[1;32m      8\u001b[0m \u001b[0;32mfrom\u001b[0m \u001b[0mautograd\u001b[0m\u001b[0;34m.\u001b[0m\u001b[0mutil\u001b[0m \u001b[0;32mimport\u001b[0m \u001b[0mflatten\u001b[0m\u001b[0;34m\u001b[0m\u001b[0m\n\u001b[0;32m----> 9\u001b[0;31m \u001b[0;32mfrom\u001b[0m \u001b[0moptimizers\u001b[0m \u001b[0;32mimport\u001b[0m \u001b[0madam\u001b[0m\u001b[0;34m\u001b[0m\u001b[0m\n\u001b[0m\u001b[1;32m     10\u001b[0m \u001b[0;32mfrom\u001b[0m \u001b[0mdata\u001b[0m \u001b[0;32mimport\u001b[0m \u001b[0mload_mnist\u001b[0m\u001b[0;34m\u001b[0m\u001b[0m\n\u001b[1;32m     11\u001b[0m \u001b[0;34m\u001b[0m\u001b[0m\n",
      "\u001b[0;31mImportError\u001b[0m: No module named optimizers"
     ]
    }
   ],
   "source": [
    "\"\"\"A multi-layer perceptron for classification of MNIST handwritten digits.\"\"\"\n",
    "from __future__ import absolute_import, division\n",
    "from __future__ import print_function\n",
    "import autograd.numpy as np\n",
    "import autograd.numpy.random as npr\n",
    "from autograd.scipy.misc import logsumexp\n",
    "from autograd import grad\n",
    "from autograd.util import flatten\n",
    "from optimizers import adam\n",
    "from data import load_mnist\n",
    "\n",
    "\n",
    "def init_random_params(scale, rs=npr.RandomState(0)):\n",
    "    \"\"\"Build a list of (weights, biases) tuples,\n",
    "       one for each layer in the net.\"\"\"\n",
    "    return [(scale * rs.randn(m, n),   # weight matrix\n",
    "             scale * rs.randn(n))      # bias vector\n",
    "            for m, n in zip(layer_sizes[:-1], layer_sizes[1:])]\n",
    "\n",
    "def neural_net_predict(params, inputs):\n",
    "    \"\"\"Implements a deep neural network for classification.\n",
    "       params is a list of (weights, bias) tuples.\n",
    "       inputs is an (N x D) matrix.\n",
    "       returns normalized class log-probabilities.\"\"\"\n",
    "    for W, b in params:\n",
    "        outputs = np.dot(inputs, W) + b\n",
    "        inputs = np.tanh(outputs)\n",
    "    return outputs - logsumexp(outputs, axis=1, keepdims=True)\n",
    "\n",
    "def l2_norm(params):\n",
    "    \"\"\"Computes l2 norm of params by flattening them into a vector.\"\"\"\n",
    "    flattened, _ = flatten(params)\n",
    "    return np.dot(flattened, flattened)\n",
    "\n",
    "def log_posterior(params, inputs, targets, L2_reg):\n",
    "    log_prior = -L2_reg * l2_norm(params)\n",
    "    log_lik = np.sum(neural_net_predict(params, inputs) * targets)\n",
    "    return log_prior + log_lik\n",
    "\n",
    "def accuracy(params, inputs, targets):\n",
    "    target_class    = np.argmax(targets, axis=1)\n",
    "    predicted_class = np.argmax(neural_net_predict(params, inputs), axis=1)\n",
    "    return np.mean(predicted_class == target_class)"
   ]
  },
  {
   "cell_type": "code",
   "execution_count": null,
   "metadata": {
    "collapsed": true
   },
   "outputs": [],
   "source": [
    "if __name__ == '__main__':\n",
    "    # Model parameters\n",
    "    layer_sizes = [784, 200, 100, 10]\n",
    "    L2_reg = 1.0\n",
    "\n",
    "    # Training parameters\n",
    "    param_scale = 0.1\n",
    "    batch_size = 256\n",
    "    num_epochs = 5\n",
    "    step_size = 0.001\n",
    "\n",
    "    print(\"Loading training data...\")\n",
    "    N, train_images, train_labels, test_images,  test_labels = load_mnist()\n",
    "\n",
    "    init_params = init_random_params(param_scale)\n",
    "\n",
    "    num_batches = int(np.ceil(len(train_images) / batch_size))\n",
    "    def batch_indices(iter):\n",
    "        idx = iter % num_batches\n",
    "        return slice(idx * batch_size, (idx+1) * batch_size)\n",
    "\n",
    "    # Define training objective\n",
    "    def objective(params, iter):\n",
    "        idx = batch_indices(iter)\n",
    "        return -log_posterior(params, train_images[idx], train_labels[idx], L2_reg)\n",
    "\n",
    "    # Get gradient of objective using autograd.\n",
    "    objective_grad = grad(objective)\n",
    "\n",
    "    print(\"     Epoch     |    Train accuracy  |       Test accuracy  \")\n",
    "    def print_perf(params, iter, gradient):\n",
    "        if iter % num_batches == 0:\n",
    "            train_acc = accuracy(params, train_images, train_labels)\n",
    "            test_acc  = accuracy(params, test_images, test_labels)\n",
    "            print(\"{:15}|{:20}|{:20}\".format(iter//num_batches, train_acc, test_acc))\n",
    "\n",
    "    # The optimizers provided can optimize lists, tuples, or dicts of parameters.\n",
    "    optimized_params = adam(objective_grad, init_params, step_size=step_size,\n",
    "                            num_iters=num_epochs * num_batches, callback=print_perf)"
   ]
  }
 ],
 "metadata": {
  "kernelspec": {
   "display_name": "Python 2",
   "language": "python",
   "name": "python2"
  },
  "language_info": {
   "codemirror_mode": {
    "name": "ipython",
    "version": 2
   },
   "file_extension": ".py",
   "mimetype": "text/x-python",
   "name": "python",
   "nbconvert_exporter": "python",
   "pygments_lexer": "ipython2",
   "version": "2.7.11"
  }
 },
 "nbformat": 4,
 "nbformat_minor": 0
}
