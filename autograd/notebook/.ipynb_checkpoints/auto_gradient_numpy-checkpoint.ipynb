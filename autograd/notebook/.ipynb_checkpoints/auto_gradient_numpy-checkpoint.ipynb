{
 "cells": [
  {
   "cell_type": "code",
   "execution_count": 13,
   "metadata": {
    "ExecuteTime": {
     "end_time": "2016-07-15T15:50:32.368427",
     "start_time": "2016-07-15T15:50:32.362062"
    },
    "collapsed": true
   },
   "outputs": [],
   "source": [
    "from __future__ import absolute_import\n",
    "import autograd.numpy as np\n",
    "from autograd import elementwise_grad\n",
    "%matplotlib inline"
   ]
  },
  {
   "cell_type": "markdown",
   "metadata": {},
   "source": [
    "# Simple 1"
   ]
  },
  {
   "cell_type": "code",
   "execution_count": 14,
   "metadata": {
    "ExecuteTime": {
     "end_time": "2016-07-15T15:50:33.477279",
     "start_time": "2016-07-15T15:50:33.472741"
    },
    "collapsed": true
   },
   "outputs": [],
   "source": [
    "# Here we use elementwise_grad to support broadcasting, which makes evaluating\n",
    "# the gradient functions faster and avoids the need for calling 'map'.\n",
    "\n",
    "def tanh(x):\n",
    "    return (1.0 - np.exp(-x))  / (1.0 + np.exp(-x))"
   ]
  },
  {
   "cell_type": "code",
   "execution_count": 15,
   "metadata": {
    "ExecuteTime": {
     "end_time": "2016-07-15T15:50:33.676642",
     "start_time": "2016-07-15T15:50:33.671989"
    },
    "collapsed": true
   },
   "outputs": [],
   "source": [
    "d_fun      = elementwise_grad(tanh)       # First derivative\n",
    "dd_fun     = elementwise_grad(d_fun)      # Second derivative\n",
    "ddd_fun    = elementwise_grad(dd_fun)     # Third derivative\n",
    "dddd_fun   = elementwise_grad(ddd_fun)    # Fourth derivative\n",
    "ddddd_fun  = elementwise_grad(dddd_fun)   # Fifth derivative\n",
    "dddddd_fun = elementwise_grad(ddddd_fun)  # Sixth derivative"
   ]
  },
  {
   "cell_type": "code",
   "execution_count": 16,
   "metadata": {
    "ExecuteTime": {
     "end_time": "2016-07-15T15:50:34.533143",
     "start_time": "2016-07-15T15:50:34.170166"
    },
    "collapsed": false
   },
   "outputs": [
    {
     "data": {
      "text/plain": [
       "[<matplotlib.lines.Line2D at 0x10b7f3a90>,\n",
       " <matplotlib.lines.Line2D at 0x10b7f3c90>,\n",
       " <matplotlib.lines.Line2D at 0x10b801390>,\n",
       " <matplotlib.lines.Line2D at 0x10b8019d0>,\n",
       " <matplotlib.lines.Line2D at 0x10b80e050>,\n",
       " <matplotlib.lines.Line2D at 0x10b80e690>,\n",
       " <matplotlib.lines.Line2D at 0x10b80ecd0>]"
      ]
     },
     "execution_count": 16,
     "metadata": {},
     "output_type": "execute_result"
    },
    {
     "data": {
      "image/png": "[encoded data removed]",
      "text/plain": [
       "<matplotlib.figure.Figure at 0x10b7464d0>"
      ]
     },
     "metadata": {},
     "output_type": "display_data"
    }
   ],
   "source": [
    "x = np.linspace(-7, 7, 200)\n",
    "plt.plot(x, tanh(x),\n",
    "         x, d_fun(x),\n",
    "         x, dd_fun(x),\n",
    "         x, ddd_fun(x),\n",
    "         x, dddd_fun(x),\n",
    "         x, ddddd_fun(x),\n",
    "         x, dddddd_fun(x))"
   ]
  },
  {
   "cell_type": "code",
   "execution_count": null,
   "metadata": {
    "collapsed": true
   },
   "outputs": [],
   "source": []
  },
  {
   "cell_type": "code",
   "execution_count": null,
   "metadata": {
    "collapsed": true
   },
   "outputs": [],
   "source": []
  },
  {
   "cell_type": "markdown",
   "metadata": {},
   "source": [
    "# Tutorial"
   ]
  },
  {
   "cell_type": "code",
   "execution_count": 22,
   "metadata": {
    "ExecuteTime": {
     "end_time": "2016-07-15T15:59:43.495166",
     "start_time": "2016-07-15T15:59:43.483976"
    },
    "collapsed": false
   },
   "outputs": [
    {
     "name": "stdout",
     "output_type": "stream",
     "text": [
      "Gradient of sin(pi) is 2.47372763646e-05\n"
     ]
    }
   ],
   "source": [
    "import autograd.numpy as np   # Thinly-wrapped version of Numpy\n",
    "from autograd import grad\n",
    "\n",
    "def taylor_sine(x):  # Taylor approximation to sine function\n",
    "    ans = currterm = x\n",
    "    i = 0\n",
    "    while np.abs(currterm) > 0.001:\n",
    "        currterm = -currterm * x**2 / ((2 * i + 3) * (2 * i + 2))\n",
    "        ans = ans + currterm\n",
    "        i += 1\n",
    "    return ans\n",
    "\n",
    "grad_sine = grad(taylor_sine)\n",
    "print \"Gradient of sin(pi) is\", grad_sine(np.pi/2)"
   ]
  },
  {
   "cell_type": "code",
   "execution_count": 23,
   "metadata": {
    "ExecuteTime": {
     "end_time": "2016-07-15T15:59:58.079472",
     "start_time": "2016-07-15T15:59:58.075792"
    },
    "collapsed": true
   },
   "outputs": [],
   "source": [
    "x = np.arange(-10,10,0.01)"
   ]
  },
  {
   "cell_type": "code",
   "execution_count": 42,
   "metadata": {
    "ExecuteTime": {
     "end_time": "2016-07-15T16:03:59.511603",
     "start_time": "2016-07-15T16:03:55.413415"
    },
    "collapsed": false
   },
   "outputs": [],
   "source": [
    "y = np.array([taylor_sine(_x) for _x in x])\n",
    "z = np.array([grad_sine(_x) for _x in x])"
   ]
  },
  {
   "cell_type": "code",
   "execution_count": 43,
   "metadata": {
    "ExecuteTime": {
     "end_time": "2016-07-15T16:04:02.125914",
     "start_time": "2016-07-15T16:04:01.924398"
    },
    "collapsed": false
   },
   "outputs": [
    {
     "data": {
      "image/png": "[encoded data removed]",
      "text/plain": [
       "<matplotlib.figure.Figure at 0x10818d710>"
      ]
     },
     "metadata": {},
     "output_type": "display_data"
    }
   ],
   "source": [
    "plot(x,y,'g')\n",
    "plot(x,z,'r')\n",
    "plt.grid('on')"
   ]
  },
  {
   "cell_type": "code",
   "execution_count": null,
   "metadata": {
    "collapsed": true
   },
   "outputs": [],
   "source": []
  },
  {
   "cell_type": "code",
   "execution_count": null,
   "metadata": {
    "collapsed": true
   },
   "outputs": [],
   "source": []
  },
  {
   "cell_type": "code",
   "execution_count": null,
   "metadata": {
    "collapsed": true
   },
   "outputs": [],
   "source": []
  },
  {
   "cell_type": "markdown",
   "metadata": {},
   "source": [
    "# logistic regression"
   ]
  },
  {
   "cell_type": "code",
   "execution_count": 59,
   "metadata": {
    "ExecuteTime": {
     "end_time": "2016-07-15T16:15:28.205082",
     "start_time": "2016-07-15T16:15:26.685435"
    },
    "collapsed": false
   },
   "outputs": [
    {
     "name": "stdout",
     "output_type": "stream",
     "text": [
      "Initial loss: 2.77258872224\n",
      "Trained loss: 0.00212025817313\n"
     ]
    }
   ],
   "source": [
    "import autograd.numpy as np\n",
    "from autograd import grad\n",
    "\n",
    "def sigmoid(x):\n",
    "    return 0.5*(np.tanh(x) + 1)\n",
    "\n",
    "def logistic_predictions(weights, inputs):\n",
    "    # Outputs probability of a label being true according to logistic model.\n",
    "    return sigmoid(np.dot(inputs, weights))\n",
    "\n",
    "def training_loss(weights):\n",
    "    # Training loss is the negative log-likelihood of the training labels.\n",
    "    preds = logistic_predictions(weights, inputs)\n",
    "    label_probabilities = preds * targets + (1 - preds) * (1 - targets)\n",
    "    return -np.sum(np.log(label_probabilities))\n",
    "\n",
    "# Build a toy dataset.\n",
    "inputs = np.array([[0.52, 1.12,  0.77],\n",
    "                   [0.88, -1.08, 0.15],\n",
    "                   [0.52, 0.06, -1.30],\n",
    "                   [0.74, -2.49, 1.39]])\n",
    "targets = np.array([True, True, False, True])\n",
    "\n",
    "# Define a function that returns gradients of training loss using autograd.\n",
    "training_gradient_fun = grad(training_loss)\n",
    "\n",
    "# Optimize weights using gradient descent.\n",
    "weights = np.array([0.0, 0.0, 0.0])\n",
    "learning_rate = 0.1\n",
    "training_loss_history = []\n",
    "print \"Initial loss:\", training_loss(weights)\n",
    "for i in xrange(2000):\n",
    "    weights -= training_gradient_fun(weights) * learning_rate\n",
    "    training_loss_history.append(training_loss(weights))\n",
    "\n",
    "print  \"Trained loss:\", training_loss(weights)"
   ]
  },
  {
   "cell_type": "code",
   "execution_count": 65,
   "metadata": {
    "ExecuteTime": {
     "end_time": "2016-07-15T16:15:56.411828",
     "start_time": "2016-07-15T16:15:56.204327"
    },
    "collapsed": false
   },
   "outputs": [
    {
     "data": {
      "text/plain": [
       "[<matplotlib.lines.Line2D at 0x10d2dab10>]"
      ]
     },
     "execution_count": 65,
     "metadata": {},
     "output_type": "execute_result"
    },
    {
     "data": {
      "image/png": "[encoded data removed]",
      "text/plain": [
       "<matplotlib.figure.Figure at 0x10d29e190>"
      ]
     },
     "metadata": {},
     "output_type": "display_data"
    }
   ],
   "source": [
    "plt.plot(training_loss_history[:500],'-')"
   ]
  },
  {
   "cell_type": "code",
   "execution_count": null,
   "metadata": {
    "collapsed": true
   },
   "outputs": [],
   "source": []
  }
 ],
 "metadata": {
  "kernelspec": {
   "display_name": "Python 2",
   "language": "python",
   "name": "python2"
  },
  "language_info": {
   "codemirror_mode": {
    "name": "ipython",
    "version": 2
   },
   "file_extension": ".py",
   "mimetype": "text/x-python",
   "name": "python",
   "nbconvert_exporter": "python",
   "pygments_lexer": "ipython2",
   "version": "2.7.11"
  }
 },
 "nbformat": 4,
 "nbformat_minor": 0
}
